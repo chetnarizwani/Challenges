{
 "cells": [
  {
   "cell_type": "code",
   "execution_count": 16,
   "metadata": {},
   "outputs": [
    {
     "name": "stdout",
     "output_type": "stream",
     "text": [
      "Done\n"
     ]
    }
   ],
   "source": [
    "import mysql.connector as connection\n",
    "import csv\n",
    "\n",
    "class CsvToDatabase:\n",
    "    def connectDB(self, host, user, password):\n",
    "        return connection.connect(host=host,user=user,passwd=password,use_pure=True)\n",
    "    \n",
    "    def createTable(self,mydb,database,table):\n",
    "        cur = mydb.cursor()\n",
    "        cur.execute(\"CREATE TABLE IF NOT EXISTS {tablename} (n1 int,n2 int,n3 int,n4 int,n5 int,n6 int,n7 int,n8 int,n9 int,n10 int,n11 int,n12 int,n13 int,n14 int)\".format(tablename = str(database)+\".\"+str(table)))\n",
    "        return cur\n",
    "\n",
    "    def insertValues(self, source, cur):\n",
    "        with open(source,'r') as data:\n",
    "            data_csv = csv.reader(data,delimiter='\\n')\n",
    "            for i in data_csv:\n",
    "                row = str(i[0]).replace(';',',')\n",
    "                cur.execute(\"INSERT INTO chetna.carbon_nanotubes VALUES ({f})\".format(f=row))\n",
    "                mydb.commit()\n",
    "        print(\"Done\")\n",
    "    \n",
    "con = CsvToDatabase()\n",
    "mydb = con.connectDB('localhost', 'root', 'mysql')\n",
    "cur = con.createTable(mydb,'chetna','carbon_nanotubes')\n",
    "con.insertValues('carbon_nanotubes.csv',cur)"
   ]
  },
  {
   "cell_type": "code",
   "execution_count": null,
   "metadata": {},
   "outputs": [],
   "source": []
  }
 ],
 "metadata": {
  "kernelspec": {
   "display_name": "Python 3",
   "language": "python",
   "name": "python3"
  },
  "language_info": {
   "codemirror_mode": {
    "name": "ipython",
    "version": 3
   },
   "file_extension": ".py",
   "mimetype": "text/x-python",
   "name": "python",
   "nbconvert_exporter": "python",
   "pygments_lexer": "ipython3",
   "version": "3.8.3"
  }
 },
 "nbformat": 4,
 "nbformat_minor": 4
}
