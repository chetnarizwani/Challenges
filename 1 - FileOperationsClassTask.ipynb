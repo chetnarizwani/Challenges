{
 "cells": [
  {
   "cell_type": "code",
   "execution_count": null,
   "metadata": {},
   "outputs": [],
   "source": [
    "import os\n",
    "\n",
    "os.mkdir(\"Demo\")\n",
    "os.chdir(\"C:\\\\Users\\\\YOGITA\\\\Desktop\\\\Python\\\\iNeuron\\\\Python\\\\Demo\")\n",
    "l = []\n",
    "for i in range(10):\n",
    "    f = open(\"text\"+str(i+1)+\".txt\",\"w+\")\n",
    "    f.write(\"Chetna\")\n",
    "    f.close()\n",
    "path = os.getcwd()\n",
    "for file in os.listdir():\n",
    "    if file.endswith(\".txt\"):\n",
    "        f = open(path+\"\\\\\"+file)\n",
    "        print(f.read())\n",
    "        f.seek(0)\n",
    "        for line in f:\n",
    "            l.append(line)\n",
    "        f.close()\n",
    "print(l)\n",
    "\n",
    "f = open(\"compile.txt\",\"w+\")\n",
    "f.write(str(l))\n",
    "f.close()\n",
    "for i in range(10):\n",
    "    os.remove(\"text\"+str(i+1)+\".txt\")"
   ]
  }
 ],
 "metadata": {
  "kernelspec": {
   "display_name": "Python 3",
   "language": "python",
   "name": "python3"
  },
  "language_info": {
   "codemirror_mode": {
    "name": "ipython",
    "version": 3
   },
   "file_extension": ".py",
   "mimetype": "text/x-python",
   "name": "python",
   "nbconvert_exporter": "python",
   "pygments_lexer": "ipython3",
   "version": "3.8.3"
  }
 },
 "nbformat": 4,
 "nbformat_minor": 4
}
