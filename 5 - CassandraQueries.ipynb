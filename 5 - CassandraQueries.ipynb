{
 "cells": [
  {
   "cell_type": "code",
   "execution_count": 5,
   "metadata": {},
   "outputs": [
    {
     "name": "stdout",
     "output_type": "stream",
     "text": [
      "3.11.10\n"
     ]
    }
   ],
   "source": [
    "from cassandra.cluster import Cluster\n",
    "class CassandraSession:\n",
    "    def get_session(self):\n",
    "        try:\n",
    "            cluster = Cluster()\n",
    "            session = cluster.connect()\n",
    "            return session\n",
    "        except Exception as e:\n",
    "            print('Exception occured while connecting ',e)\n",
    "try:\n",
    "    cassandra = CassandraSession()\n",
    "    session = cassandra.get_session()\n",
    "    row = session.execute(\"select release_version from system.local\").one()\n",
    "    if row:\n",
    "        print(row[0])\n",
    "    else:\n",
    "        print(\"An error occurred.\")\n",
    "except Exception as e:\n",
    "    print('exception occurced ',e)\n",
    "    "
   ]
  },
  {
   "cell_type": "code",
   "execution_count": 6,
   "metadata": {},
   "outputs": [
    {
     "name": "stdout",
     "output_type": "stream",
     "text": [
      "Keyspace created.\n"
     ]
    }
   ],
   "source": [
    "#1 Create Keyspace\n",
    "try:\n",
    "    query = \"CREATE KEYSPACE ineuron1 WITH replication = {'class':'SimpleStrategy', 'replication_factor' : 3};\"\n",
    "    session.execute(query)\n",
    "    print('Keyspace created.')\n",
    "except Exception as e:\n",
    "    print('Error occured ',e)"
   ]
  },
  {
   "cell_type": "code",
   "execution_count": 7,
   "metadata": {},
   "outputs": [
    {
     "name": "stdout",
     "output_type": "stream",
     "text": [
      "Changed keypsace to ineuron1\n"
     ]
    }
   ],
   "source": [
    "#2 Use Keyspace\n",
    "try:\n",
    "    query = \"USE ineuron1\"\n",
    "    session.execute(query)\n",
    "    print('Changed keypsace to ineuron1')\n",
    "except Exception as e:\n",
    "    print('Error occured ',e)"
   ]
  },
  {
   "cell_type": "code",
   "execution_count": 8,
   "metadata": {},
   "outputs": [
    {
     "name": "stdout",
     "output_type": "stream",
     "text": [
      "Keyspace altered.\n"
     ]
    }
   ],
   "source": [
    "#3 Alter Keyspace\n",
    "try:\n",
    "    query = \"ALTER KEYSPACE ineuron1 WITH replication = {'class':'SimpleStrategy', 'replication_factor' : 2};\"\n",
    "    session.execute(query)\n",
    "    print('Keyspace altered.')\n",
    "except Exception as e:\n",
    "    print('Error occured ',e)"
   ]
  },
  {
   "cell_type": "code",
   "execution_count": 9,
   "metadata": {},
   "outputs": [
    {
     "name": "stdout",
     "output_type": "stream",
     "text": [
      "Keyspace ineuron1 dropped.\n"
     ]
    }
   ],
   "source": [
    "#4 Drop keyspace\n",
    "try:\n",
    "    query = \"DROP KEYSPACE ineuron1\"\n",
    "    session.execute(query)\n",
    "    print('Keyspace ineuron1 dropped.')\n",
    "except Exception as e:\n",
    "    print('Error occured ',e)"
   ]
  },
  {
   "cell_type": "code",
   "execution_count": 11,
   "metadata": {},
   "outputs": [
    {
     "name": "stdout",
     "output_type": "stream",
     "text": [
      "Keyspace changed to ineuron.\n"
     ]
    }
   ],
   "source": [
    "#5 Use Keyspace\n",
    "try:\n",
    "    query = \"USE ineuron\"\n",
    "    session.execute(query)\n",
    "    print('Keyspace changed to ineuron.')\n",
    "except Exception as e:\n",
    "    print('Error occured ',e)"
   ]
  },
  {
   "cell_type": "code",
   "execution_count": 16,
   "metadata": {},
   "outputs": [
    {
     "name": "stdout",
     "output_type": "stream",
     "text": [
      "Table created.\n"
     ]
    }
   ],
   "source": [
    "#6 Creating Table\n",
    "try:\n",
    "    query = \"\"\"CREATE TABLE Employee( \n",
    "               emp_id int PRIMARY KEY,\n",
    "               emp_name text,\n",
    "               emp_city text,\n",
    "               emp_sal varint,\n",
    "               emp_phone varint)\n",
    "            \"\"\"\n",
    "    session.execute(query)\n",
    "    print('Table created.')\n",
    "except Exception as e:\n",
    "    print('Error occured ',e)"
   ]
  },
  {
   "cell_type": "code",
   "execution_count": 28,
   "metadata": {},
   "outputs": [
    {
     "name": "stdout",
     "output_type": "stream",
     "text": [
      "Table altered.\n"
     ]
    }
   ],
   "source": [
    "#7 Alter Table add column\n",
    "try:\n",
    "    query = \"ALTER TABLE Employee ADD email set<text>\"\n",
    "    session.execute(query)\n",
    "    print('Table altered.')\n",
    "except Exception as e:\n",
    "    print('Error occured ',e)"
   ]
  },
  {
   "cell_type": "code",
   "execution_count": 18,
   "metadata": {},
   "outputs": [
    {
     "name": "stdout",
     "output_type": "stream",
     "text": [
      "Table altered.\n"
     ]
    }
   ],
   "source": [
    "#8 Alter Table drop column\n",
    "try:\n",
    "    query = \"ALTER TABLE Employee DROP email\"\n",
    "    session.execute(query)\n",
    "    print('Table altered.')\n",
    "except Exception as e:\n",
    "    print('Error occured ',e)"
   ]
  },
  {
   "cell_type": "code",
   "execution_count": 19,
   "metadata": {},
   "outputs": [
    {
     "name": "stdout",
     "output_type": "stream",
     "text": [
      "Index created.\n"
     ]
    }
   ],
   "source": [
    "#9 Creating index on table\n",
    "try:\n",
    "    query = \"CREATE INDEX emp_index on Employee(emp_city)\"\n",
    "    session.execute(query)\n",
    "    print('Index created.')\n",
    "except Exception as e:\n",
    "    print('Error occured ',e)"
   ]
  },
  {
   "cell_type": "code",
   "execution_count": 20,
   "metadata": {},
   "outputs": [
    {
     "name": "stdout",
     "output_type": "stream",
     "text": [
      "Record (1, 'Chetna', 'Pune', 75747474, 66655) inserted.\n",
      "Record (2, 'Yogita', 'Pune', 465656565, 75756) inserted.\n",
      "Record (3, 'Gul', 'Pune', 7575757575, 65656) inserted.\n",
      "Record (4, 'Kavita', 'Pune', 74747565675, 545454) inserted.\n"
     ]
    }
   ],
   "source": [
    "#10 Insert into table\n",
    "try:\n",
    "    records = [(1,'Chetna','Pune',75747474,66655),(2,'Yogita','Pune',465656565,75756),\n",
    "    (3,'Gul','Pune',7575757575,65656),(4,'Kavita','Pune',74747565675,545454)]\n",
    "    for record in records:\n",
    "        query = \"\"\" INSERT INTO employee (emp_id, emp_name, emp_city,emp_phone, emp_sal) VALUES(%s,%s,%s,%s,%s)\"\"\"\n",
    "        session.execute(query,record)\n",
    "        print(f'Record {record} inserted.')\n",
    "except Exception as e:\n",
    "    print('Error occured ',e)"
   ]
  },
  {
   "cell_type": "code",
   "execution_count": 21,
   "metadata": {},
   "outputs": [
    {
     "name": "stdout",
     "output_type": "stream",
     "text": [
      "Row(emp_id=1, emp_city='Pune', emp_name='Chetna', emp_phone=75747474, emp_sal=66655)\n",
      "Row(emp_id=2, emp_city='Pune', emp_name='Yogita', emp_phone=465656565, emp_sal=75756)\n",
      "Row(emp_id=4, emp_city='Pune', emp_name='Kavita', emp_phone=74747565675, emp_sal=545454)\n",
      "Row(emp_id=3, emp_city='Pune', emp_name='Gul', emp_phone=7575757575, emp_sal=65656)\n"
     ]
    }
   ],
   "source": [
    "#11 Display records from table\n",
    "try:\n",
    "    query = \"SELECT * FROM Employee\"\n",
    "    rows = session.execute(query)\n",
    "    for row in rows:\n",
    "        print(row)\n",
    "except Exception as e:\n",
    "    print('Error occured ',e)"
   ]
  },
  {
   "cell_type": "code",
   "execution_count": 23,
   "metadata": {},
   "outputs": [
    {
     "name": "stdout",
     "output_type": "stream",
     "text": [
      "Row(emp_id=4, emp_name='Kavita', emp_city='Pune')\n"
     ]
    }
   ],
   "source": [
    "#12 Display employess whose emp_sal 50000 using ALLOW FILTERING;\n",
    "try:\n",
    "    query = \"SELECT emp_id,emp_name,emp_city FROM Employee WHERE emp_sal >500000 ALLOW FILTERING\"\n",
    "    rows = session.execute(query)\n",
    "    for row in rows:\n",
    "        print(row)\n",
    "except Exception as e:\n",
    "    print('Error occured ',e)"
   ]
  },
  {
   "cell_type": "code",
   "execution_count": 24,
   "metadata": {},
   "outputs": [
    {
     "name": "stdout",
     "output_type": "stream",
     "text": [
      "Row(emp_count=4)\n"
     ]
    }
   ],
   "source": [
    "#13 Display employee count in table\n",
    "try:\n",
    "    query = \"SELECT count(*) as emp_count from Employee\"\n",
    "    rows = session.execute(query)\n",
    "    for row in rows:\n",
    "        print(row)\n",
    "except Exception as e:\n",
    "    print('Error occured ',e)"
   ]
  },
  {
   "cell_type": "code",
   "execution_count": 25,
   "metadata": {},
   "outputs": [
    {
     "name": "stdout",
     "output_type": "stream",
     "text": [
      "Record updated.\n"
     ]
    }
   ],
   "source": [
    "#14 Update record from table\n",
    "try:\n",
    "    query = \"UPDATE Employee SET emp_name='Chetna Rizwani' WHERE emp_id=1\"\n",
    "    session.execute(query)\n",
    "    print('Record updated.')\n",
    "except Exception as e:\n",
    "    print('Error occured ',e)"
   ]
  },
  {
   "cell_type": "code",
   "execution_count": 26,
   "metadata": {},
   "outputs": [
    {
     "name": "stdout",
     "output_type": "stream",
     "text": [
      "Record deleted.\n"
     ]
    }
   ],
   "source": [
    "#15 Deleting record from table\n",
    "try:\n",
    "    query = \"DELETE FROM Employee WHERE emp_id=1\"\n",
    "    session.execute(query)\n",
    "    print('Record deleted.')\n",
    "except Exception as e:\n",
    "    print('Error occured ',e)"
   ]
  },
  {
   "cell_type": "code",
   "execution_count": 29,
   "metadata": {},
   "outputs": [
    {
     "name": "stdout",
     "output_type": "stream",
     "text": [
      "Record updated.\n"
     ]
    }
   ],
   "source": [
    "#16 Update table to add emails\n",
    "try:\n",
    "    emails = {'yogita@gmail.com','gul@gmail.com','kavita@gmail.com'}\n",
    "    query = \"UPDATE Employee SET email={} WHERE emp_id=1\".format(emails)\n",
    "    session.execute(query)\n",
    "    print('Record updated.')\n",
    "except Exception as e:\n",
    "    print('Error occured ',e)"
   ]
  },
  {
   "cell_type": "code",
   "execution_count": 30,
   "metadata": {},
   "outputs": [
    {
     "name": "stdout",
     "output_type": "stream",
     "text": [
      "Row(system_min_emp_sal=65656)\n"
     ]
    }
   ],
   "source": [
    "#17 Minimum salary\n",
    "try:\n",
    "    query = \"SELECT MIN(emp_sal) FROM Employee;\"\n",
    "    rows = session.execute(query)\n",
    "    for row in rows:\n",
    "        print(row)\n",
    "except Exception as e:\n",
    "    print('Error occured ',e)\n"
   ]
  },
  {
   "cell_type": "code",
   "execution_count": 32,
   "metadata": {},
   "outputs": [
    {
     "name": "stdout",
     "output_type": "stream",
     "text": [
      "Row(system_sum_emp_sal=686866)\n"
     ]
    }
   ],
   "source": [
    "#18 Sum of salary\n",
    "try:\n",
    "    query = \"SELECT SUM(emp_sal) FROM Employee;\"\n",
    "    rows = session.execute(query)\n",
    "    for row in rows:\n",
    "        print(row)\n",
    "except Exception as e:\n",
    "    print('Error occured ',e)"
   ]
  },
  {
   "cell_type": "code",
   "execution_count": 33,
   "metadata": {},
   "outputs": [
    {
     "name": "stdout",
     "output_type": "stream",
     "text": [
      "Table truncated.\n"
     ]
    }
   ],
   "source": [
    "#19 Truncate table\n",
    "try:\n",
    "    query = \"TRUNCATE TABLE  Employee\"\n",
    "    session.execute(query)\n",
    "    print('Table truncated.')\n",
    "except Exception as e:\n",
    "    print('Error occured ',e)"
   ]
  },
  {
   "cell_type": "code",
   "execution_count": 34,
   "metadata": {},
   "outputs": [
    {
     "name": "stdout",
     "output_type": "stream",
     "text": [
      "Table dropped.\n"
     ]
    }
   ],
   "source": [
    "#20 Drop Table\n",
    "try:\n",
    "    query = \"DROP TABLE Employee\"\n",
    "    session.execute(query)\n",
    "    print('Table dropped.')\n",
    "except Exception as e:\n",
    "    print('Error occured ',e)"
   ]
  },
  {
   "cell_type": "code",
   "execution_count": null,
   "metadata": {},
   "outputs": [],
   "source": []
  }
 ],
 "metadata": {
  "kernelspec": {
   "display_name": "Python 3",
   "language": "python",
   "name": "python3"
  },
  "language_info": {
   "codemirror_mode": {
    "name": "ipython",
    "version": 3
   },
   "file_extension": ".py",
   "mimetype": "text/x-python",
   "name": "python",
   "nbconvert_exporter": "python",
   "pygments_lexer": "ipython3",
   "version": "3.8.3"
  }
 },
 "nbformat": 4,
 "nbformat_minor": 4
}
